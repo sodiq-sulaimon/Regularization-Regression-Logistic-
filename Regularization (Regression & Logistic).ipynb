{
 "cells": [
  {
   "cell_type": "markdown",
   "id": "3292b991",
   "metadata": {},
   "source": [
    "## Regularization (Avoiding Overfitting)"
   ]
  },
  {
   "cell_type": "code",
   "execution_count": 2,
   "id": "fb64fb58",
   "metadata": {},
   "outputs": [],
   "source": [
    "import numpy as np\n",
    "import matplotlib.pyplot as plt"
   ]
  },
  {
   "cell_type": "markdown",
   "id": "a843641b",
   "metadata": {},
   "source": [
    "#### Cost function for regularized linear regression"
   ]
  },
  {
   "cell_type": "code",
   "execution_count": 3,
   "id": "33f1ae6d",
   "metadata": {},
   "outputs": [],
   "source": [
    "def compute_cost_linear_reg(X, y, w, b, lambda_ = 1):\n",
    "    \n",
    "    m  = X.shape[0]\n",
    "    n  = len(w)\n",
    "    cost = 0.\n",
    "    for i in range(m):\n",
    "        f_wb_i = np.dot(X[i], w) + b                                   \n",
    "        cost = cost + (f_wb_i - y[i])**2                                            \n",
    "    cost = cost / (2 * m)                                               \n",
    " \n",
    "    reg_cost = 0\n",
    "    for j in range(n):\n",
    "        reg_cost += (w[j]**2)                                          \n",
    "    reg_cost = (lambda_/(2*m)) * reg_cost                           \n",
    "    \n",
    "    total_cost = cost + reg_cost                                      \n",
    "    return total_cost                                               "
   ]
  },
  {
   "cell_type": "markdown",
   "id": "30687353",
   "metadata": {},
   "source": [
    "#### Cost function for regularized logistic regression"
   ]
  },
  {
   "cell_type": "code",
   "execution_count": 4,
   "id": "02456bf7",
   "metadata": {},
   "outputs": [],
   "source": [
    "def compute_cost_logistic_reg(X, y, w, b, lambda_ = 1):\n",
    "\n",
    "    m,n  = X.shape\n",
    "    cost = 0.\n",
    "    for i in range(m):\n",
    "        z_i = np.dot(X[i], w) + b                                     \n",
    "        f_wb_i = sigmoid(z_i)                                         \n",
    "        cost +=  -y[i]*np.log(f_wb_i) - (1-y[i])*np.log(1-f_wb_i)     \n",
    "             \n",
    "    cost = cost/m                                                      \n",
    "\n",
    "    reg_cost = 0\n",
    "    for j in range(n):\n",
    "        reg_cost += (w[j]**2)                                          \n",
    "    reg_cost = (lambda_/(2*m)) * reg_cost                             \n",
    "    \n",
    "    total_cost = cost + reg_cost                                      \n",
    "    return total_cost                                                 "
   ]
  },
  {
   "cell_type": "markdown",
   "id": "b6435f9b",
   "metadata": {},
   "source": [
    "#### Gradient descent for regularized linear regression"
   ]
  },
  {
   "cell_type": "code",
   "execution_count": 6,
   "id": "e6f2fb7b",
   "metadata": {},
   "outputs": [],
   "source": [
    "def compute_gradient_linear_reg(X, y, w, b, lambda_): \n",
    "    m,n = X.shape           #(number of examples, number of features)\n",
    "    dj_dw = np.zeros((n,))\n",
    "    dj_db = 0.\n",
    "\n",
    "    for i in range(m):                             \n",
    "        err = (np.dot(X[i], w) + b) - y[i]                 \n",
    "        for j in range(n):                         \n",
    "            dj_dw[j] = dj_dw[j] + err * X[i, j]               \n",
    "        dj_db = dj_db + err                        \n",
    "    dj_dw = dj_dw / m                                \n",
    "    dj_db = dj_db / m   \n",
    "    \n",
    "    for j in range(n):\n",
    "        dj_dw[j] = dj_dw[j] + (lambda_/m) * w[j]\n",
    "\n",
    "    return dj_db, dj_dw"
   ]
  },
  {
   "cell_type": "markdown",
   "id": "d1bbdce1",
   "metadata": {},
   "source": [
    "#### Gradient descent for regularized logistic regression"
   ]
  },
  {
   "cell_type": "code",
   "execution_count": null,
   "id": "3ab723e1",
   "metadata": {},
   "outputs": [],
   "source": [
    "def compute_gradient_logistic_reg(X, y, w, b, lambda_): \n",
    "   \n",
    "    m,n = X.shape \n",
    "    dj_dw = np.zeros((n,))                           \n",
    "    dj_db = 0.0                                      \n",
    "\n",
    "    for i in range(m):\n",
    "        f_wb_i = sigmoid(np.dot(X[i],w) + b)         \n",
    "        err_i  = f_wb_i  - y[i]                       \n",
    "        for j in range(n):\n",
    "            dj_dw[j] = dj_dw[j] + err_i * X[i,j]      \n",
    "        dj_db = dj_db + err_i\n",
    "    dj_dw = dj_dw/m                                   \n",
    "    dj_db = dj_db/m                                  \n",
    "\n",
    "    for j in range(n):\n",
    "        dj_dw[j] = dj_dw[j] + (lambda_/m) * w[j]\n",
    "\n",
    "    return dj_db, dj_dw  \n"
   ]
  }
 ],
 "metadata": {
  "kernelspec": {
   "display_name": "Python 3 (ipykernel)",
   "language": "python",
   "name": "python3"
  },
  "language_info": {
   "codemirror_mode": {
    "name": "ipython",
    "version": 3
   },
   "file_extension": ".py",
   "mimetype": "text/x-python",
   "name": "python",
   "nbconvert_exporter": "python",
   "pygments_lexer": "ipython3",
   "version": "3.9.12"
  }
 },
 "nbformat": 4,
 "nbformat_minor": 5
}
